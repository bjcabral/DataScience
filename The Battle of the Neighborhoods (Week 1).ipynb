{
    "nbformat_minor": 1, 
    "cells": [
        {
            "source": "## Peer-graded Assignment: Capstone Project - The Battle of the Neighborhoods (Week 1)", 
            "cell_type": "markdown", 
            "metadata": {
                "collapsed": true
            }
        }, 
        {
            "source": "<b>Week 1: A description of the problem and a discussion of the background. (15 marks)</b>\nClearly define a problem or an idea of your choice, where you would need to leverage the Foursquare location data to solve or execute. \nRemember that data science problems always target an audience and are meant to help a group of stakeholders solve a problem, so make sure that you explicitly describe your audience and why they would care about your problem.\n\nIntroduction/Business Problem", 
            "cell_type": "markdown", 
            "metadata": {}
        }, 
        {
            "source": "The problem described in this section aligns with the second suggestion in this week's instructions. This is a real situation, a friend is looking to open a fastfood franchise in my town (Falling Waters, WV). It is a very small highway town in the Interstate 81 corridor. Due to its proximity to an interstate highway, the town is populated with many fastfood places and other larger restaurant venues. He already owns several of the same franchise in the area and is looking for the ideal place to open his next one. Some of the competitors include McDonals, Burger King, FiveGuys, and many others. His franchise offers breakfast items all day, hashbrowns, coffee, smoothies, among other items. Currently, there is no data related to the popularity of these other venues, or their concentration around the area. My task is to recommend the best place to open the new venue considering the following attributes: distance from other similar venues, popularity of similar venues in the area, consideration to his other existing similar franchises and their distance from new venue, population in the area, highway traffic volume, and possibly, volume of traffic exiting the highway and intercepting with the new venue. ", 
            "cell_type": "markdown", 
            "metadata": {}
        }, 
        {
            "source": "<b>Week 1: A description of the data and how it will be used to solve the problem. (15 marks)</b>\nDescribe the data that you will be using to solve the problem or execute your idea.\nRemember that you will need to use the Foursquare location data to solve the problem or execute your idea. \nYou can absolutely use other datasets in combination with the Foursquare location data. So make sure that you provide adequate explanation and discussion, with examples, of the data that you will be using, even if it is only Foursquare location data. (Data Section in final report)", 
            "cell_type": "markdown", 
            "metadata": {}
        }, 
        {
            "source": "The data to be used in solving this problem includes: 1) Foursquare location data, including venues, location, and popularity. 2) Residential population in the are, and highway traffic. 3) if available, I would like to use data related to the number of stops made at different exits intercepting the potential location of the new venue. ", 
            "cell_type": "markdown", 
            "metadata": {}
        }, 
        {
            "source": "", 
            "cell_type": "code", 
            "metadata": {}, 
            "outputs": [], 
            "execution_count": null
        }
    ], 
    "metadata": {
        "kernelspec": {
            "display_name": "Python 3.5", 
            "name": "python3", 
            "language": "python"
        }, 
        "language_info": {
            "mimetype": "text/x-python", 
            "nbconvert_exporter": "python", 
            "version": "3.5.5", 
            "name": "python", 
            "pygments_lexer": "ipython3", 
            "file_extension": ".py", 
            "codemirror_mode": {
                "version": 3, 
                "name": "ipython"
            }
        }
    }, 
    "nbformat": 4
}