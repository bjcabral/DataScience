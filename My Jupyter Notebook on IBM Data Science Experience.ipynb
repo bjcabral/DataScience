{
 "cells": [
  {
   "cell_type": "markdown",
   "metadata": {
    "collapsed": true
   },
   "source": [
    "# My Jupyter Notebook on IBM Data Science Experience"
   ]
  },
  {
   "cell_type": "markdown",
   "metadata": {},
   "source": [
    "**Braulio J. Cabral**"
   ]
  },
  {
   "cell_type": "markdown",
   "metadata": {},
   "source": [
    "Director, Technical Operations Support. Frederick National Laboratory for Cancer Research. Operated by Leidos Biomedical Research, Inc. (a solely subsidiary of Leidos, Inc.)"
   ]
  },
  {
   "cell_type": "markdown",
   "metadata": {},
   "source": [
    "*I am interested in Data Science because with the available computing power at affortable cost, Data Science is the next step to increase the return on investment of Information Technology. Data Science allows businesses and organizations the opportunity to learn from the vast amount of data accumulated through years, and what we learn will impact everything we do, from biological research, to behavioral science, physics, and engineering.*"
   ]
  },
  {
   "cell_type": "markdown",
   "metadata": {},
   "source": [
    "***My code takes a temperature input in Fahrenheit and returns its equivalent in Celsius***"
   ]
  },
  {
   "cell_type": "code",
   "execution_count": 12,
   "metadata": {},
   "outputs": [
    {
     "name": "stdout",
     "output_type": "stream",
     "text": [
      "The equivalent of 65 degrees Fahrenheit is: 18.33 Celsius\n"
     ]
    }
   ],
   "source": [
    "Fahrenheit = 65\n",
    "Celsius = 0\n",
    "\n",
    "print(\"The equivalent of {} degrees Fahrenheit is: {} Celsius\".format(Fahrenheit, round((Fahrenheit - 32) * (5/9), 2)))"
   ]
  },
  {
   "cell_type": "markdown",
   "metadata": {},
   "source": [
    " ### A horizontal rule below  \n",
    " ------------------------------------\n",
    "\n",
    "### A bulleted list\n",
    "* List item 1\n",
    "* List item 2\n",
    "* List item 3\n",
    "\n",
    "\n",
    "### A numebered list\n",
    "1. Numbered list   \n",
    "2. Numbered list \n",
    "3. Numbered list\n",
    "\n",
    "### A table\n",
    "\n",
    "| Column 1       | Column 2     | Column 3     |\n",
    "| :------------- | :----------: | -----------: |\n",
    "|  Cell 1        | Cell 3       | Cell 5       |\n",
    "|  Cell 2        | Cell 4       | Cell 6       |\n",
    "\n",
    "### Hyperlink\n",
    "My favorite search engine is [Google](https://google.com).\n",
    "\n",
    "\n",
    "### An image \n",
    "\n",
    "The Linux Mascot ![Linux mascot is cool](https://d33wubrfki0l68.cloudfront.net/e7ed9fe4bafe46e275c807d63591f85f9ab246ba/e2d28/assets/images/tux.png)\n",
    "\n",
    "\n"
   ]
  },
  {
   "cell_type": "code",
   "execution_count": null,
   "metadata": {},
   "outputs": [],
   "source": []
  }
 ],
 "metadata": {
  "kernelspec": {
   "display_name": "Python 3.5",
   "language": "python",
   "name": "python3"
  },
  "language_info": {
   "codemirror_mode": {
    "name": "ipython",
    "version": 3
   },
   "file_extension": ".py",
   "mimetype": "text/x-python",
   "name": "python",
   "nbconvert_exporter": "python",
   "pygments_lexer": "ipython3",
   "version": "3.5.5"
  }
 },
 "nbformat": 4,
 "nbformat_minor": 1
}
