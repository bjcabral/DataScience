{
    "nbformat_minor": 1, 
    "cells": [
        {
            "source": "## Peer-graded Assignment: Capstone Project - The Battle of the Neighborhoods (Week 1)", 
            "cell_type": "markdown", 
            "metadata": {
                "collapsed": true
            }
        }, 
        {
            "source": "<b>Week 1: A description of the problem and a discussion of the background. (15 marks)</b>\nClearly define a problem or an idea of your choice, where you would need to leverage the Foursquare location data to solve or execute. \nRemember that data science problems always target an audience and are meant to help a group of stakeholders solve a problem, so make sure that you explicitly describe your audience and why they would care about your problem.\n\nIntroduction/Business Problem", 
            "cell_type": "markdown", 
            "metadata": {}
        }, 
        {
            "source": "As any other business, many fast food franchises are successful while others fail early after opening. According to Barbara Moran, president of Moran Industries, even when franchises corporate parents provide the same level of support to franchisees, determining who will success or fail is complicated, you need to consider many factors (Axelton, 2019). Some issues are operational, while others are leadership attitude. But location is still one of the predominant factors determining the success of a franchise,scoping the community and looking at certain attributes of a location increases the chanses of success (Hightower, 2017). In this research, I will validate recomendations for opening a franchise at a certain location in my town of Falling Waters WV. A franchisee known to me got approval from his corporate sponsor for a location, but he would like to know more about it to validate corporate recomendations. Identify competitors and also other businesses that may drive traffic to the new store. I am proposing the use of two datasets, business locations and categories for a 10-mile radius from the proposed location, traffic information for the two closes highway exits. The strategy is to utilize this data to scope the area, but also use machine learning model to predict the best location based on number of businesses in the perimeter, volume of traffic, competitors, and proximity to other stores already own by this franchisee. The audiance for this study includes any person looking to open a business and wanting to scope the areas for best locations based on the paraters described, and in particular, this franchisee looking to open a new store. ", 
            "cell_type": "markdown", 
            "metadata": {}
        }, 
        {
            "source": "<b>Week 1: A description of the data and how it will be used to solve the problem. (15 marks)</b>\nDescribe the data that you will be using to solve the problem or execute your idea.\nRemember that you will need to use the Foursquare location data to solve the problem or execute your idea. \nYou can absolutely use other datasets in combination with the Foursquare location data. So make sure that you provide adequate explanation and discussion, with examples, of the data that you will be using, even if it is only Foursquare location data. (Data Section in final report)", 
            "cell_type": "markdown", 
            "metadata": {}
        }, 
        {
            "source": "As explained previously, I will be using two datasets, one is a dataset generated using Foursquare with data related to all businesses in a 10-miles radius of the given location. From this dataset I want to learn about competing business, businesses that could drive customers for this new store, popularity of competing business, distance from location, and distance of other businesses owned by the franchisee. \n\nExample from dataset 1\n    Venue Name, Category, Address, City, distance, Latitude, Longitude, postalCode, State\n    \nThe second dataset correspond to data collected by the WV Department of Transportation traffic surveys. This data is specific to two traffic counters near the proposed location. The data includes year, day of the week, number of motor vehicle exiting at each location by hour. From this data I would like to understand the traffic pattern during certain hours and days of the week. \n\nExample data:\n>\n> Date       Hour Motor Vehicle Count<br>\n> 2014-04-29  00\t    59<br>\n> 2014-04-29  01 \t    33<br>\n> 2014-04-29  02\t    39<br>\n> 2014-04-29  03\t    93<br>\n> 2014-04-29  04\t    146<br>\n> 2014-04-29  05\t    241<br>\n> 2014-04-29  06\t    478<br>\n> 2014-04-29  07\t    644<br>\n> 2014-04-29  08\t    592<br>\n> 2014-04-29  09\t    382<br>\n> WVdot<br>\n", 
            "cell_type": "markdown", 
            "attachments": {}, 
            "metadata": {}
        }, 
        {
            "source": "### References\n\nAxelton, K. (2019) Why Do Some Francisees Succeed While Others Fail? All Businesses. Article extracted from URL: https://www.allbusiness.com/why-do-some-franchisees-succeed-while-others-fail-12606123-1.html\nHightower, J. (2017). How to choose the best location for your franchise. Article extracted from URL: https://www.foodfranchise.com/blog/food-franchise-blog/how-to-choose-the-best-location-for-your-franchise\nEstate of West Virginia Department of Transportation. URL: http://geocounts.com/traffic/wvdoh/\n\n", 
            "cell_type": "markdown", 
            "metadata": {}
        }, 
        {
            "execution_count": null, 
            "cell_type": "code", 
            "metadata": {}, 
            "outputs": [], 
            "source": ""
        }
    ], 
    "metadata": {
        "kernelspec": {
            "display_name": "Python 3.5", 
            "name": "python3", 
            "language": "python"
        }, 
        "language_info": {
            "mimetype": "text/x-python", 
            "nbconvert_exporter": "python", 
            "version": "3.5.5", 
            "name": "python", 
            "file_extension": ".py", 
            "pygments_lexer": "ipython3", 
            "codemirror_mode": {
                "version": 3, 
                "name": "ipython"
            }
        }
    }, 
    "nbformat": 4
}